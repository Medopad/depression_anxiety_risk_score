{
 "cells": [
  {
   "cell_type": "code",
   "execution_count": null,
   "metadata": {},
   "outputs": [],
   "source": [
    "import pandas as pd\n",
    "import numpy as np \n",
    "from google.cloud import bigquery\n",
    "from lifelines import CoxPHFitter  \n",
    "\n",
    "from utils import read_and_render\n",
    "from UKBInfoMapper import UKBInfoMapper\n",
    "from utils_preprocessing import process_categorical_type_data, process_multi_categorical_type_data,process_date_type_data"
   ]
  },
  {
   "cell_type": "code",
   "execution_count": null,
   "metadata": {},
   "outputs": [],
   "source": [
    "client = bigquery.Client()\n",
    "path = 'sql/sql_file.sql'\n",
    "query = read_and_render(path)\n",
    "result = client.query(query).to_dataframe()\n",
    "#120107 missing\n",
    "result.columns = result.columns + '_'"
   ]
  },
  {
   "cell_type": "code",
   "execution_count": null,
   "metadata": {},
   "outputs": [],
   "source": [
    "mapper_info = UKBInfoMapper()"
   ]
  },
  {
   "cell_type": "code",
   "execution_count": null,
   "metadata": {},
   "outputs": [],
   "source": [
    "result = mapper_info._rename_columns_on_data(df=result,original_col=\"field_id\",new_col=\"field_name\")"
   ]
  },
  {
   "cell_type": "code",
   "execution_count": null,
   "metadata": {},
   "outputs": [],
   "source": [
    "result = process_date_type_data(result,'DateOfAttendingAssessmentCentre')\n",
    "list_columns_date = ['DateLostToFollow-Up','DateOfDeath','outcome_date_','max_date_']\n",
    "for col in list_columns_date:\n",
    "    result = process_date_type_data(result,col)\n",
    "    result[col] = (result[col] - result['DateOfAttendingAssessmentCentre'])/pd.to_timedelta('365 days')\n",
    "result['survival_time'] = np.nanmin(result[list_columns_date],1)"
   ]
  },
  {
   "cell_type": "code",
   "execution_count": null,
   "metadata": {},
   "outputs": [],
   "source": [
    "result = result.drop( ['DateLostToFollow-Up', 'DateOfAttendingAssessmentCentre','DateOfDeath','outcome_date_','max_date_'], axis=1)\n",
    "FILL_0 = ['TobaccoSmoking'] \n",
    "result[FILL_0] = result[FILL_0].fillna(114)\n",
    "for col in result.columns:\n",
    "    if col not in ['_eid_']:\n",
    "        try:\n",
    "            value_type = mapper_info.df[mapper_info.df.field_name==col].value_type.values[0]\n",
    "            if value_type == 11:\n",
    "                result[col] = result[col].fillna(result[col].mean())\n",
    "            else:\n",
    "                result[col] = result[col].fillna(result[col].mode())\n",
    "        except:\n",
    "            pass"
   ]
  },
  {
   "cell_type": "code",
   "execution_count": null,
   "metadata": {},
   "outputs": [],
   "source": [
    "drop_low_count_rows = [\"SeverityOfManic/IrritableEpisodes\", \"EverUnenthusiastic/DisinterestedForAWholeWeek\", \"EverDepressedForAWholeWeek\", \"FinancialSituationSatisfaction\"]\n",
    "result = result.drop(drop_low_count_rows, axis=1)\n",
    "result = result.dropna()"
   ]
  },
  {
   "cell_type": "code",
   "execution_count": null,
   "metadata": {},
   "outputs": [],
   "source": [
    "result = mapper_info._rename_columns_on_data(df=result,original_col=\"field_name\",new_col=\"field_id\")"
   ]
  },
  {
   "cell_type": "code",
   "execution_count": null,
   "metadata": {},
   "outputs": [],
   "source": [
    "mapper_info.df = mapper_info.df[mapper_info.df.field_id.isin(result.columns)]\n",
    "list_col_21 = list(set(mapper_info.df[mapper_info.df.value_type == 21].field_id.tolist() ))\n",
    "for col in list_col_21:\n",
    "    result = process_categorical_type_data(result, col)\n",
    "list_col_22 = list(set(mapper_info.df[mapper_info.df.value_type == 22].field_id.tolist()))\n",
    "for col in list_col_22:\n",
    "    result = process_multi_categorical_type_data(result, col)"
   ]
  },
  {
   "cell_type": "code",
   "execution_count": null,
   "metadata": {},
   "outputs": [],
   "source": [
    "result = mapper_info._rename_columns_on_data(df=result,original_col=\"field_id_processed\",new_col=\"field_name_processed\")"
   ]
  },
  {
   "cell_type": "code",
   "execution_count": null,
   "metadata": {},
   "outputs": [],
   "source": [
    "result = result.set_index('_eid_')"
   ]
  },
  {
   "cell_type": "code",
   "execution_count": 12,
   "metadata": {},
   "outputs": [],
   "source": [
    "model = CoxPHFitter(penalizer=0.1)\n",
    "model.fit(result, \"survival_time\", \"outcome_\")"
   ]
  },
  {
   "cell_type": "code",
   "execution_count": null,
   "metadata": {},
   "outputs": [],
   "source": [
    "model.summary = model.summary.loc[model.summary.p<0.05].sort_values('coef')\n",
    "model.print_summary()"
   ]
  }
 ],
 "metadata": {
  "kernelspec": {
   "display_name": "Python 3.10.5 ('venv': venv)",
   "language": "python",
   "name": "python3"
  },
  "language_info": {
   "codemirror_mode": {
    "name": "ipython",
    "version": 3
   },
   "file_extension": ".py",
   "mimetype": "text/x-python",
   "name": "python",
   "nbconvert_exporter": "python",
   "pygments_lexer": "ipython3",
   "version": "3.10.5"
  },
  "orig_nbformat": 4,
  "vscode": {
   "interpreter": {
    "hash": "e7a7d421e6e8e6d6558585a738dfd1b3c1036c5621cd95fe27ccb056c706f211"
   }
  }
 },
 "nbformat": 4,
 "nbformat_minor": 2
}
