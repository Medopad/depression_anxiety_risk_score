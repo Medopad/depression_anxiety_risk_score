{
 "cells": [
  {
   "cell_type": "code",
   "execution_count": null,
   "metadata": {},
   "outputs": [],
   "source": [
    "import pandas as pd\n",
    "import numpy as np \n",
    "from google.cloud import bigquery\n",
    "from lifelines import CoxPHFitter  \n",
    "\n",
    "from utils import read_and_render\n",
    "from UKBInfoMapper import UKBInfoMapper\n",
    "mapper_info = UKBInfoMapper()"
   ]
  },
  {
   "cell_type": "code",
   "execution_count": null,
   "metadata": {},
   "outputs": [],
   "source": [
    "from utils_preprocessing_series import process_multi_categorical_type_data, process_categorical_type_data"
   ]
  },
  {
   "cell_type": "code",
   "execution_count": null,
   "metadata": {},
   "outputs": [],
   "source": [
    "client = bigquery.Client()\n",
    "path = 'sql/sql_file.sql'\n",
    "query = read_and_render(path)\n",
    "result = client.query(query).to_dataframe()\n",
    "#120107 missing"
   ]
  },
  {
   "cell_type": "code",
   "execution_count": null,
   "metadata": {},
   "outputs": [],
   "source": [
    "bu = result.copy()"
   ]
  },
  {
   "cell_type": "code",
   "execution_count": null,
   "metadata": {},
   "outputs": [],
   "source": [
    "result=bu.copy()"
   ]
  },
  {
   "cell_type": "code",
   "execution_count": null,
   "metadata": {},
   "outputs": [],
   "source": [
    "27456  2101"
   ]
  },
  {
   "cell_type": "code",
   "execution_count": null,
   "metadata": {},
   "outputs": [],
   "source": [
    "result.outcome.value_counts()"
   ]
  },
  {
   "cell_type": "code",
   "execution_count": null,
   "metadata": {},
   "outputs": [],
   "source": [
    "result.columns = result.columns + '_'\n",
    "result = mapper_info._rename_columns_on_data(df=result,original_col=\"field_id\",new_col=\"field_name\")"
   ]
  },
  {
   "cell_type": "code",
   "execution_count": null,
   "metadata": {},
   "outputs": [],
   "source": [
    "mapper_info.df = mapper_info.df[mapper_info.df.field_name.isin(result.columns)]\n",
    "list_col_21 = list(set(mapper_info.df[mapper_info.df.value_type == 21].field_name.tolist() ))\n",
    "mapper_info.df = mapper_info.df[mapper_info.df.field_name.isin(result.columns)]\n",
    "list_col_22 = list(set(mapper_info.df[mapper_info.df.value_type == 22].field_name.tolist()))"
   ]
  },
  {
   "cell_type": "code",
   "execution_count": null,
   "metadata": {},
   "outputs": [],
   "source": [
    "def convert_to_datetime(df):\n",
    "    list_columns_date = ['DateLostToFollow-Up','DateOfAttendingAssessmentCentre','DateOfDeath','outcome_date_','max_date_']\n",
    "    for col in list_columns_date: \n",
    "        df[col] = pd.to_datetime(df[col])\n",
    "    return df \n",
    "result = convert_to_datetime(result)\n",
    "list_columns_date = ['DateLostToFollow-Up','DateOfDeath','outcome_date_','max_date_']\n",
    "for col in list_columns_date:\n",
    "    result[col] = (result[col] - result['DateOfAttendingAssessmentCentre'])/pd.to_timedelta('365 days')\n",
    "result['survival_time'] = np.nanmin(result[list_columns_date],1)"
   ]
  },
  {
   "cell_type": "code",
   "execution_count": null,
   "metadata": {},
   "outputs": [],
   "source": [
    "result = result.drop( ['DateOfAttendingAssessmentCentre', 'DateLostToFollow-Up','DateOfDeath','outcome_date_','max_date_'], axis=1)\n",
    "FILL_0 = ['TobaccoSmoking']\n",
    "result[FILL_0] = result[FILL_0].fillna(0)\n",
    "for col in result.columns:\n",
    "    if col not in ['_eid_']:\n",
    "        try:\n",
    "            value_type = mapper_info.df[mapper_info.df.field_name==col].value_type.values[0]\n",
    "            if value_type == 11:\n",
    "                result[col] = result[col].fillna(result[col].mean())\n",
    "            else:\n",
    "                result[col] = result[col].fillna(result[col].mode())\n",
    "        except:\n",
    "            pass"
   ]
  },
  {
   "cell_type": "code",
   "execution_count": null,
   "metadata": {},
   "outputs": [],
   "source": [
    "drop_low_count_rows = [\"Height\", \"SeverityOfManic/IrritableEpisodes\", \"EverUnenthusiastic/DisinterestedForAWholeWeek\", \"EverDepressedForAWholeWeek\", \"FinancialSituationSatisfaction\"]\n",
    "result = result.drop(drop_low_count_rows, axis=1)\n",
    "result = result.dropna()"
   ]
  },
  {
   "cell_type": "code",
   "execution_count": null,
   "metadata": {},
   "outputs": [],
   "source": [
    "list_col_21 = [c for c in list_col_21 if c in result.columns]\n",
    "for col in list_col_22:\n",
    "    result = process_multi_categorical_type_data(result, col)\n",
    "for col in list_col_21:\n",
    "    result = process_categorical_type_data(result, col)"
   ]
  },
  {
   "cell_type": "code",
   "execution_count": null,
   "metadata": {},
   "outputs": [],
   "source": [
    "result = result.set_index('_eid_')"
   ]
  },
  {
   "cell_type": "code",
   "execution_count": null,
   "metadata": {},
   "outputs": [],
   "source": [
    "model = CoxPHFitter(penalizer=0.1)\n",
    "model.fit(result, \"survival_time\", \"outcome_\")"
   ]
  },
  {
   "cell_type": "code",
   "execution_count": null,
   "metadata": {},
   "outputs": [],
   "source": [
    "sum.loc[sum.p<0.05].sort_values('coef')"
   ]
  }
 ],
 "metadata": {
  "kernelspec": {
   "display_name": "Python 3.10.5 ('venv': venv)",
   "language": "python",
   "name": "python3"
  },
  "language_info": {
   "codemirror_mode": {
    "name": "ipython",
    "version": 3
   },
   "file_extension": ".py",
   "mimetype": "text/x-python",
   "name": "python",
   "nbconvert_exporter": "python",
   "pygments_lexer": "ipython3",
   "version": "3.10.5"
  },
  "orig_nbformat": 4,
  "vscode": {
   "interpreter": {
    "hash": "e7a7d421e6e8e6d6558585a738dfd1b3c1036c5621cd95fe27ccb056c706f211"
   }
  }
 },
 "nbformat": 4,
 "nbformat_minor": 2
}
